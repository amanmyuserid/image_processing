{
 "cells": [
  {
   "cell_type": "code",
   "execution_count": 1,
   "id": "f139b2f4",
   "metadata": {},
   "outputs": [],
   "source": []
  },
  {
   "cell_type": "code",
   "execution_count": 1,
   "id": "bd3a350c",
   "metadata": {},
   "outputs": [],
   "source": [
    "import os, shutil, glob, random\n",
    "\n",
    "folder_path = \"/home/glarus/pipe_dataset/final_pipe_data/train/pipe_inside/*\"\n",
    "\n",
    "delete_size = 54\n",
    "\n",
    "for i in range(delete_size):\n",
    "    ran_val = random.randint(0,len(glob.glob(folder_path))-2)\n",
    "    img_name = glob.glob(folder_path)[ran_val]\n",
    "    os.remove(img_name)\n"
   ]
  },
  {
   "cell_type": "code",
   "execution_count": null,
   "id": "f46b66ff",
   "metadata": {},
   "outputs": [],
   "source": []
  }
 ],
 "metadata": {
  "kernelspec": {
   "display_name": "Python 3 (ipykernel)",
   "language": "python",
   "name": "python3"
  },
  "language_info": {
   "codemirror_mode": {
    "name": "ipython",
    "version": 3
   },
   "file_extension": ".py",
   "mimetype": "text/x-python",
   "name": "python",
   "nbconvert_exporter": "python",
   "pygments_lexer": "ipython3",
   "version": "3.9.12"
  }
 },
 "nbformat": 4,
 "nbformat_minor": 5
}
