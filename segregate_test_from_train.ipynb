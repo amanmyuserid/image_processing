{
 "cells": [
  {
   "cell_type": "code",
   "execution_count": 21,
   "id": "d5f87f77",
   "metadata": {},
   "outputs": [],
   "source": [
    "import os, shutil, glob, random\n",
    "test_size = 200\n",
    "train_path = \"/home/glarus/Desktop/Glarus/4_classes_data/train\"\n",
    "for i, folder_name in enumerate(os.listdir(train_path)):\n",
    "    try :\n",
    "        os.mkdir(train_path[:-5]+\"test/\"+folder_name)\n",
    "    except:\n",
    "        pass\n",
    "    #for j, img_path in enumerate(glob.glob(train_path+\"/\"+\"folder_name\"+\"/*\"))\n",
    "    for i in range(test_size):\n",
    "        src_img_file = train_path+\"/\"+folder_name+\"/*\"\n",
    "#         print(src_img_file)\n",
    "        total_img_file = glob.glob(src_img_file)\n",
    "        ran_val = random.randint(0,len(total_img_file)-2)\n",
    "#         print(ran_val, len(total_img_file))\n",
    "        img_name = total_img_file[ran_val].split(\"/\")[-1]\n",
    "        shutil.move(total_img_file[ran_val], train_path[:-5]+\"test/\"+folder_name+\"/\"+img_name)\n"
   ]
  },
  {
   "cell_type": "code",
   "execution_count": 20,
   "id": "e38041dd",
   "metadata": {},
   "outputs": [
    {
     "data": {
      "text/plain": [
       "1399"
      ]
     },
     "execution_count": 20,
     "metadata": {},
     "output_type": "execute_result"
    }
   ],
   "source": [
    "len(total_img_file)"
   ]
  },
  {
   "cell_type": "code",
   "execution_count": null,
   "id": "9b85b3fe",
   "metadata": {},
   "outputs": [],
   "source": []
  },
  {
   "cell_type": "code",
   "execution_count": 19,
   "id": "2229ce33",
   "metadata": {},
   "outputs": [
    {
     "data": {
      "text/plain": [
       "1399"
      ]
     },
     "execution_count": 19,
     "metadata": {},
     "output_type": "execute_result"
    }
   ],
   "source": [
    "ran_val"
   ]
  },
  {
   "cell_type": "code",
   "execution_count": 14,
   "id": "17bf79af",
   "metadata": {},
   "outputs": [
    {
     "data": {
      "text/plain": [
       "38"
      ]
     },
     "execution_count": 14,
     "metadata": {},
     "output_type": "execute_result"
    }
   ],
   "source": [
    "random.randint(0,len(total_img_file))"
   ]
  },
  {
   "cell_type": "code",
   "execution_count": 22,
   "id": "3b8f5481",
   "metadata": {},
   "outputs": [
    {
     "data": {
      "text/plain": [
       "'/home/glarus/Desktop/4_class_pipe_classification/train/An_object_but_not_pipe_inside_hook/2022-11-23|13-26-59|013311_flip_hor_ver.jpg'"
      ]
     },
     "execution_count": 22,
     "metadata": {},
     "output_type": "execute_result"
    }
   ],
   "source": [
    "total_img_file[ran_val]"
   ]
  },
  {
   "cell_type": "code",
   "execution_count": 18,
   "id": "a643c80b",
   "metadata": {},
   "outputs": [
    {
     "data": {
      "text/plain": [
       "'/home/glarus/Desktop/4_class_pipe_classification/test/pipe_inside_hook/2022-11-23|13-27-26|262776.jpg'"
      ]
     },
     "execution_count": 18,
     "metadata": {},
     "output_type": "execute_result"
    }
   ],
   "source": [
    "train_path[:-5]+\"test/\"+folder_name+\"/\"+img_name"
   ]
  },
  {
   "cell_type": "code",
   "execution_count": 16,
   "id": "fbffe3aa",
   "metadata": {},
   "outputs": [
    {
     "data": {
      "text/plain": [
       "'2022-11-23|13-27-26|262776.jpg'"
      ]
     },
     "execution_count": 16,
     "metadata": {},
     "output_type": "execute_result"
    }
   ],
   "source": [
    "img_name"
   ]
  },
  {
   "cell_type": "code",
   "execution_count": null,
   "id": "a6428974",
   "metadata": {},
   "outputs": [],
   "source": []
  },
  {
   "cell_type": "code",
   "execution_count": null,
   "id": "30eba3e7",
   "metadata": {},
   "outputs": [],
   "source": []
  },
  {
   "cell_type": "code",
   "execution_count": null,
   "id": "949bbf0d",
   "metadata": {},
   "outputs": [],
   "source": []
  },
  {
   "cell_type": "code",
   "execution_count": 7,
   "id": "e2b49594",
   "metadata": {},
   "outputs": [
    {
     "data": {
      "text/plain": [
       "'/home/glarus/Desktop/4_class_pipe_classification/test'"
      ]
     },
     "execution_count": 7,
     "metadata": {},
     "output_type": "execute_result"
    }
   ],
   "source": [
    "train_path[:-7]+\"test\""
   ]
  },
  {
   "cell_type": "code",
   "execution_count": null,
   "id": "78f6d4f3",
   "metadata": {},
   "outputs": [],
   "source": []
  },
  {
   "cell_type": "code",
   "execution_count": null,
   "id": "5b0a486f",
   "metadata": {},
   "outputs": [],
   "source": []
  },
  {
   "cell_type": "code",
   "execution_count": 2,
   "id": "5aa43aa5",
   "metadata": {},
   "outputs": [
    {
     "name": "stdout",
     "output_type": "stream",
     "text": [
      "7\n"
     ]
    }
   ],
   "source": [
    "import random\n",
    "\n",
    "print(random.randint(0,9))"
   ]
  },
  {
   "cell_type": "code",
   "execution_count": null,
   "id": "74f930a1",
   "metadata": {},
   "outputs": [],
   "source": []
  }
 ],
 "metadata": {
  "kernelspec": {
   "display_name": "Python 3 (ipykernel)",
   "language": "python",
   "name": "python3"
  },
  "language_info": {
   "codemirror_mode": {
    "name": "ipython",
    "version": 3
   },
   "file_extension": ".py",
   "mimetype": "text/x-python",
   "name": "python",
   "nbconvert_exporter": "python",
   "pygments_lexer": "ipython3",
   "version": "3.9.12"
  }
 },
 "nbformat": 4,
 "nbformat_minor": 5
}
