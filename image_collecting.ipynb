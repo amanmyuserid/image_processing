{
 "cells": [
  {
   "cell_type": "code",
   "execution_count": 13,
   "id": "52a6083a",
   "metadata": {},
   "outputs": [
    {
     "name": "stdout",
     "output_type": "stream",
     "text": [
      "0 pipe close img written so far!\n",
      "0 non pipe img written!\n",
      "0 pipe inside img written!\n",
      "0 non pipe inside img written!\n",
      "1 non pipe inside img written!\n",
      "1 non pipe img written!\n",
      "1 pipe close img written so far!\n",
      "1 pipe inside img written!\n",
      "2 pipe inside img written!\n",
      "3 pipe inside img written!\n",
      "2 non pipe inside img written!\n",
      "2 non pipe img written!\n",
      "2 pipe close img written so far!\n",
      "3 pipe close img written so far!\n",
      "Escape hit, closing...\n"
     ]
    }
   ],
   "source": [
    "import cv2\n",
    "import urllib.request\n",
    "import datetime\n",
    "import numpy as np\n",
    "import os\n",
    "\n",
    "\n",
    "\n",
    "new_folder = str(datetime.datetime.now()).replace(\" \", \"_\").replace(\".\", \"_\").replace(\":\", \"-\")\n",
    "os.mkdir(new_folder)\n",
    "\n",
    "os.mkdir(new_folder+\"/pipe_inside\")\n",
    "os.mkdir(new_folder+\"/non_pipe\")\n",
    "os.mkdir(new_folder+\"/non_pipe_inside\")\n",
    "os.mkdir(new_folder+\"/pipe_close\")\n",
    "\n",
    "#url='http://192.168.67.172/cam-lo.jpg'\n",
    "cam = cv2.VideoCapture(2)\n",
    "\n",
    "cv2.namedWindow(\"test\")\n",
    "\n",
    "img_counter =0\n",
    "\n",
    "\n",
    "\n",
    "value_count = [0]*4\n",
    "while True:\n",
    "#     test=urllib.request.urlopen(url)\n",
    "#     imgnew=np.array(bytearray(test.read()),dtype=np.uint8)\n",
    "#     frame = cv2.imdecode(imgnew,-1)\n",
    "##    print (\"frame\",frame)\n",
    "    _, frame = cam.read()\n",
    "    if not(_):\n",
    "        continue\n",
    "    cv2.imshow(\"test\", frame)\n",
    "\n",
    "    k = cv2.waitKey(1)\n",
    "    if k%256 == 27:\n",
    "        # ESC pressed\n",
    "        print(\"Escape hit, closing...\")\n",
    "        break\n",
    "    elif k%256 == 78 or k%256 == 110: # save non_pipe images\n",
    "        # SPACE pressed\n",
    "        img_name = str(datetime.datetime.now()).replace(\" \", \"\").replace(\".\", \":\")+\".jpg\".format(img_counter)\n",
    "        #imgname = \"nonpipeimage{}.jpg\".format(img_counter)\n",
    "        cv2.imwrite(new_folder+\"/non_pipe/\"+img_name, frame)\n",
    "        print(\"{} non pipe img written!\".format(value_count[0]))\n",
    "        img_counter += 1\n",
    "        value_count[0]  += 1\n",
    "    elif k%256 == 73 or k%256 == 105: # save pipe images\n",
    "        # SPACE pressed\n",
    "        img_name = str(datetime.datetime.now()).replace(\" \", \"\").replace(\".\", \":\")+\".jpg\".format(img_counter)\n",
    "        #imgname = \"nonpipeimage{}.jpg\".format(img_counter)\n",
    "        cv2.imwrite(new_folder+\"/pipe_inside/\"+img_name, frame)\n",
    "        print(\"{} pipe inside img written!\".format(value_count[1]))\n",
    "        img_counter += 1\n",
    "        value_count[1]  += 1\n",
    "    elif k%256 == 74 or k%256 == 106: # save pipe images\n",
    "        # SPACE pressed\n",
    "        img_name = str(datetime.datetime.now()).replace(\" \", \"\").replace(\".\", \":\")+\".jpg\".format(img_counter)\n",
    "        #imgname = \"nonpipeimage{}.jpg\".format(img_counter)\n",
    "        cv2.imwrite(new_folder+\"/non_pipe_inside/\"+img_name, frame)\n",
    "        print(\"{} non pipe inside img written!\".format(value_count[2]))\n",
    "        img_counter += 1\n",
    "        value_count[2]  += 1\n",
    "    elif k%256 == 67 or k%256 == 99: # save pipe images\n",
    "        # SPACE pressed\n",
    "        img_name = str(datetime.datetime.now()).replace(\" \", \"\").replace(\".\", \":\")+\".jpg\".format(img_counter)\n",
    "        #imgname = \"nonpipeimage{}.jpg\".format(img_counter)\n",
    "        cv2.imwrite(new_folder+\"/pipe_close/\"+img_name, frame)\n",
    "        print(\"{} pipe close img written so far!\".format(value_count[3]))\n",
    "        img_counter += 1\n",
    "        value_count[3]  += 1\n",
    "\n",
    "cam.release()\n",
    " \n",
    "cv2.destroyAllWindows()\n",
    "\n",
    "                                                                    "
   ]
  },
  {
   "cell_type": "code",
   "execution_count": 9,
   "id": "b00e3e83",
   "metadata": {},
   "outputs": [
    {
     "data": {
      "text/plain": [
       "False"
      ]
     },
     "execution_count": 9,
     "metadata": {},
     "output_type": "execute_result"
    }
   ],
   "source": [
    "_"
   ]
  },
  {
   "cell_type": "code",
   "execution_count": 5,
   "id": "6cd5041c",
   "metadata": {},
   "outputs": [],
   "source": [
    "import datetime"
   ]
  },
  {
   "cell_type": "code",
   "execution_count": 7,
   "id": "d3c163f7",
   "metadata": {},
   "outputs": [
    {
     "data": {
      "text/plain": [
       "'2022-12-05_13-02-10_686513'"
      ]
     },
     "execution_count": 7,
     "metadata": {},
     "output_type": "execute_result"
    }
   ],
   "source": [
    "str(datetime.datetime.now()).replace(\" \", \"_\").replace(\".\", \"_\").replace(\":\", \"-\")"
   ]
  },
  {
   "cell_type": "code",
   "execution_count": 4,
   "id": "f8176af4",
   "metadata": {},
   "outputs": [],
   "source": []
  },
  {
   "cell_type": "code",
   "execution_count": 2,
   "id": "01f14c90",
   "metadata": {},
   "outputs": [
    {
     "data": {
      "text/plain": [
       "'/home/glarus/aman/data_augmentation'"
      ]
     },
     "execution_count": 2,
     "metadata": {},
     "output_type": "execute_result"
    }
   ],
   "source": []
  },
  {
   "cell_type": "code",
   "execution_count": 7,
   "id": "54a6d76d",
   "metadata": {},
   "outputs": [],
   "source": []
  },
  {
   "cell_type": "code",
   "execution_count": null,
   "id": "e43051df",
   "metadata": {},
   "outputs": [],
   "source": []
  }
 ],
 "metadata": {
  "kernelspec": {
   "display_name": "Python 3 (ipykernel)",
   "language": "python",
   "name": "python3"
  },
  "language_info": {
   "codemirror_mode": {
    "name": "ipython",
    "version": 3
   },
   "file_extension": ".py",
   "mimetype": "text/x-python",
   "name": "python",
   "nbconvert_exporter": "python",
   "pygments_lexer": "ipython3",
   "version": "3.9.12"
  }
 },
 "nbformat": 4,
 "nbformat_minor": 5
}
