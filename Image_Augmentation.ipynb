{
 "cells": [
  {
   "cell_type": "code",
   "execution_count": 3,
   "id": "c1b0a6ab",
   "metadata": {},
   "outputs": [],
   "source": [
    "import os \n",
    "import cv2\n",
    "import glob\n",
    "import numpy as np\n",
    "import random"
   ]
  },
  {
   "cell_type": "code",
   "execution_count": 4,
   "id": "993acb7d",
   "metadata": {},
   "outputs": [],
   "source": [
    "# Set direction 1 for horizontal flip and 0 for verticle   \n",
    "def flip_image(image, direction, img_path, name):\n",
    "    image = cv2.flip(image, direction)\n",
    "    cv2.imwrite(img_path[:-4]+name, image)\n",
    "    return image\n",
    "\n"
   ]
  },
  {
   "cell_type": "code",
   "execution_count": 5,
   "id": "a6e4b26a",
   "metadata": {},
   "outputs": [],
   "source": [
    "main_folder_path = \"/home/glarus/Desktop/Glarus/4_classes_data_dec14/test/*\"\n",
    "\n",
    "for j, folder_path in enumerate(glob.glob(main_folder_path)):\n",
    "    for i, img_path in enumerate(glob.glob(folder_path+\"/*\")):\n",
    "\n",
    "        image = cv2.imread(img_path)\n",
    "\n",
    "#         img_hor_flip = flip_image(image, 1, img_path, \"_flip_hor.jpg\") #horizontal flip\n",
    "        img_ver_flip = flip_image(image, 0, img_path, \"_flip_ver.jpg\") #verticle flip\n",
    "    #     img_hor_ver_flip = flip_image(img_hor_flip, 0, img_path, \"_flip_hor_ver.jpg\") #flip hiorizontal then verticle\n",
    "\n",
    "\n",
    "    #     img_rot_org = rotation(image, int(random.uniform(10, 90)), img_path, \"_rotate.jpg\")\n",
    "    #     img_rot_hor_flip = rotation(img_hor_flip, int(random.uniform(10, 90)), img_path, \"_rotate_flip_hor.jpg\")\n",
    "    #     img_rot_hor_flip = rotation(img_hor_ver_flip, int(random.uniform(10, 90)), img_path, \"_rotate_flip_hor_ver.jpg\")\n",
    "\n",
    "        #img_CS_org = channel_shift(image, int(random.uniform(10, 30)), img_path, \"_chnnel_shift.jpg\")\n",
    "        #img_CS_hor_flip = channel_shift(img_hor_flip, int(random.uniform(10, 30)), img_path, \"_chnnel_shift_flip_hor.jpg\")\n",
    "\n",
    "    "
   ]
  },
  {
   "cell_type": "markdown",
   "id": "c59cdae8",
   "metadata": {},
   "source": [
    "# Augment all images in a folder"
   ]
  },
  {
   "cell_type": "code",
   "execution_count": 7,
   "id": "26f2100f",
   "metadata": {},
   "outputs": [],
   "source": [
    "count = 1\n",
    "folder_path = \"/home/glarus/pipe_dataset/final_pipe_data/train/pipe_insid/*\"\n",
    "for i, img_path in enumerate(glob.glob(folder_path)):\n",
    "    \n",
    "    image = cv2.imread(img_path)\n",
    "    \n",
    "    img_hor_flip = flip_image(image, 1, img_path, \"_flip_hor.jpg\") #horizontal flip\n",
    "#     img_ver_flip = flip_image(image, 0, img_path, \"_flip_ver.jpg\") #verticle flip\n",
    "#     img_hor_ver_flip = flip_image(img_hor_flip, 0, img_path, \"_flip_hor_ver.jpg\") #flip hiorizontal then verticle\n",
    "    \n",
    "    \n",
    "#     img_rot_org = rotation(image, int(random.uniform(10, 90)), img_path, \"_rotate.jpg\")\n",
    "#     img_rot_hor_flip = rotation(img_hor_flip, int(random.uniform(10, 90)), img_path, \"_rotate_flip_hor.jpg\")\n",
    "#     img_rot_hor_flip = rotation(img_hor_ver_flip, int(random.uniform(10, 90)), img_path, \"_rotate_flip_hor_ver.jpg\")\n",
    "    \n",
    "    #img_CS_org = channel_shift(image, int(random.uniform(10, 30)), img_path, \"_chnnel_shift.jpg\")\n",
    "    #img_CS_hor_flip = channel_shift(img_hor_flip, int(random.uniform(10, 30)), img_path, \"_chnnel_shift_flip_hor.jpg\")\n",
    "    if count == 55:\n",
    "        break\n",
    "    count += 1"
   ]
  },
  {
   "cell_type": "code",
   "execution_count": null,
   "id": "e0cb73e0",
   "metadata": {},
   "outputs": [],
   "source": []
  },
  {
   "cell_type": "code",
   "execution_count": 12,
   "id": "a87b2100",
   "metadata": {},
   "outputs": [],
   "source": [
    "main_folder_path = \"/home/glarus/Desktop/Glarus/4_classes_data/train/*\"\n",
    "\n",
    "for j, folder_path in enumerate(glob.glob(main_folder_path)):\n",
    "    \n",
    "    for i, img_path in enumerate(glob.glob(folder_path+\"/*\")):\n",
    "\n",
    "        image = cv2.imread(img_path)\n",
    "\n",
    "        img_hor_flip = flip_image(image, 1, img_path, \"_flip_hor.jpg\") #horizontal flip\n",
    "\n",
    "#         img_ver_flip = flip_image(image, 0, img_path, \"_flip_ver.jpg\") #verticle flip\n",
    "        img_hor_ver_flip = flip_image(img_hor_flip, 0, img_path, \"_flip_hor_ver.jpg\") #flip hiorizontal then verticle\n",
    "        \n"
   ]
  },
  {
   "cell_type": "code",
   "execution_count": null,
   "id": "e29291ec",
   "metadata": {},
   "outputs": [],
   "source": []
  },
  {
   "cell_type": "code",
   "execution_count": null,
   "id": "3299edc3",
   "metadata": {},
   "outputs": [],
   "source": []
  },
  {
   "cell_type": "code",
   "execution_count": null,
   "id": "34d7db75",
   "metadata": {},
   "outputs": [],
   "source": []
  },
  {
   "cell_type": "code",
   "execution_count": null,
   "id": "7bd59509",
   "metadata": {},
   "outputs": [],
   "source": []
  },
  {
   "cell_type": "code",
   "execution_count": 2,
   "id": "ff72bf5e",
   "metadata": {},
   "outputs": [],
   "source": [
    "import glob"
   ]
  },
  {
   "cell_type": "code",
   "execution_count": 3,
   "id": "57c53740",
   "metadata": {},
   "outputs": [
    {
     "data": {
      "text/plain": [
       "['/home/glarus/Desktop/Glarus/4_classes_data/train/non_pipe_inside',\n",
       " '/home/glarus/Desktop/Glarus/4_classes_data/train/pipe_close',\n",
       " '/home/glarus/Desktop/Glarus/4_classes_data/train/pipe_inside',\n",
       " '/home/glarus/Desktop/Glarus/4_classes_data/train/non_pipe']"
      ]
     },
     "execution_count": 3,
     "metadata": {},
     "output_type": "execute_result"
    }
   ],
   "source": [
    "glob.glob(\"/home/glarus/Desktop/Glarus/4_classes_data/train/*\")"
   ]
  },
  {
   "cell_type": "code",
   "execution_count": null,
   "id": "919c6b81",
   "metadata": {},
   "outputs": [],
   "source": []
  },
  {
   "cell_type": "code",
   "execution_count": 2,
   "id": "dd9432f9",
   "metadata": {},
   "outputs": [],
   "source": [
    "def rotate_img(img, deg):\n",
    "    pass\n",
    "    \n",
    "\n",
    "# Set direction 1 for horizontal flip and 0 for verticle   \n",
    "def flip_image(image, direction, img_path, name):\n",
    "    image = cv2.flip(image, direction)\n",
    "    cv2.imwrite(img_path[:-4]+name, image)\n",
    "    return image\n",
    "\n",
    "#Set blur 0, 1, 2, 3, 4 ...\n",
    "def gausian_blur(image,blur, img_path, name):\n",
    "    image = cv2.GaussianBlur(image,(5,5),blur)\n",
    "    cv2.imwrite(img_path[:-4]+name, image)  \n",
    "    return image\n",
    "\n",
    "#    \n",
    "def sharpen_image(image, name):\n",
    "    kernel = np.array([[0, -1, 0], [-1, 5, -1], [0, -1, 0]])\n",
    "    image = cv2.filter2D(image, -1, kernel)\n",
    "    cv2.imwrite(img_path[:-4]+name, image)\n",
    "\n",
    "#Set contrast 25, 50, 75... \n",
    "def contrast_image(image,contrast, name):\n",
    "    image = cv2.cvtColor(image, cv2.COLOR_BGR2HSV)\n",
    "    image[:,:,2] = [[max(pixel - contrast, 0) if pixel < 190 else min(pixel + contrast, 255) for pixel in row] for row in image[:,:,2]]\n",
    "    image= cv2.cvtColor(image, cv2.COLOR_HSV2BGR)\n",
    "    cv2.imwrite(img_path[:-4]+name, image)\n",
    "\n",
    "#Set deg 1, 20, 30\n",
    "def rotate_image(image,deg, name):\n",
    "    rows, cols,c = image.shape\n",
    "    M = cv2.getRotationMatrix2D((cols/2,rows/2), deg, 1)\n",
    "    image = cv2.warpAffine(image, M, (cols, rows))\n",
    "    cv2.imwrite(img_path[:-4]+name, image)    \n",
    "    \n",
    "def translation_image(image,x,y, name):\n",
    "    rows, cols ,c= image.shape\n",
    "    M = np.float32([[1, 0, x], [0, 1, y]])\n",
    "    image = cv2.warpAffine(image, M, (cols, rows))\n",
    "    cv2.imwrite(img_path[:-4]+name, image)\n",
    "    \n",
    "def rotation(img, angle, img_path, name):\n",
    "    angle = int(random.uniform(-angle, angle))\n",
    "    h, w = img.shape[:2]\n",
    "    M = cv2.getRotationMatrix2D((int(w/2), int(h/2)), angle, 1)\n",
    "    img = cv2.warpAffine(img, M, (w, h))\n",
    "    cv2.imwrite(img_path[:-4]+name, img)\n",
    "    return img    \n",
    "\n",
    "\n",
    "def channel_shift(img, value, img_path, name):\n",
    "    value = int(random.uniform(-value, value))\n",
    "    img = img + value\n",
    "    img[:,:,:][img[:,:,:]>255]  = 255\n",
    "    img[:,:,:][img[:,:,:]<0]  = 0\n",
    "    img = img.astype(np.uint8)\n",
    "    cv2.imwrite(img_path[:-4]+name, img)\n",
    "    return img"
   ]
  },
  {
   "cell_type": "code",
   "execution_count": null,
   "id": "475deb70",
   "metadata": {},
   "outputs": [],
   "source": []
  },
  {
   "cell_type": "code",
   "execution_count": null,
   "id": "38208add",
   "metadata": {},
   "outputs": [],
   "source": []
  },
  {
   "cell_type": "code",
   "execution_count": 6,
   "id": "fa3ae03e",
   "metadata": {},
   "outputs": [],
   "source": [
    "folder_path = \"/home/glarus/glarus_project/collect_pipe_data/pipe/*\"\n",
    "for i, img_path in enumerate(glob.glob(folder_path)):\n",
    "    \n",
    "    image = cv2.imread(img_path)\n",
    "    \n",
    "    img_hor_flip = flip_image(image, 1, img_path, \"_flip_hor.jpg\") #horizontal flip\n",
    "    img_ver_flip = flip_image(image, 0, img_path, \"_flip_ver.jpg\") #verticle flip\n",
    "    img_hor_ver_flip = flip_image(img_hor_flip, 0, img_path, \"_flip_hor_ver.jpg\") #flip hiorizontal then verticle\n",
    "    \n",
    "    \n",
    "    img_rot_org = rotation(image, int(random.uniform(10, 90)), img_path, \"_rotate.jpg\")\n",
    "    img_rot_hor_flip = rotation(img_hor_flip, int(random.uniform(10, 90)), img_path, \"_rotate_flip_hor.jpg\")\n",
    "    img_rot_hor_flip = rotation(img_hor_ver_flip, int(random.uniform(10, 90)), img_path, \"_rotate_flip_hor_ver.jpg\")\n",
    "    \n",
    "    #img_CS_org = channel_shift(image, int(random.uniform(10, 30)), img_path, \"_chnnel_shift.jpg\")\n",
    "    #img_CS_hor_flip = channel_shift(img_hor_flip, int(random.uniform(10, 30)), img_path, \"_chnnel_shift_flip_hor.jpg\")\n",
    "\n",
    "    "
   ]
  },
  {
   "cell_type": "code",
   "execution_count": null,
   "id": "85c71f1b",
   "metadata": {},
   "outputs": [],
   "source": []
  },
  {
   "cell_type": "code",
   "execution_count": 20,
   "id": "0473b76e",
   "metadata": {},
   "outputs": [],
   "source": [
    "# folder_path = \"/home/glarus/aman/data_augmentation/pipe_dataset/train/pipe/*\"\n",
    "# for i, img_path in enumerate(glob.glob(folder_path)):\n",
    "    \n",
    "#     image = cv2.imread(img_path)\n",
    "#     flip_image(image, 1, img_path)\n",
    "#     gausian_blur(image, 2, img_path)\n",
    "#     sharpen_image(image)\n",
    "#     rotate_image(image,40)\n",
    "#     translation_image(image, 10, 20)\n",
    "#     rotation(image, 90)\n",
    "#     channel_shift(image, 40)\n",
    "#     #contrast_image(image,10)\n",
    "#     #print(img_path[:-4]+\"_rotate.jpg\")\n",
    "#     break"
   ]
  },
  {
   "cell_type": "code",
   "execution_count": null,
   "id": "3d9b374f",
   "metadata": {},
   "outputs": [],
   "source": []
  },
  {
   "cell_type": "code",
   "execution_count": null,
   "id": "bd972c2b",
   "metadata": {},
   "outputs": [],
   "source": []
  },
  {
   "cell_type": "code",
   "execution_count": 10,
   "id": "fe7f664d",
   "metadata": {},
   "outputs": [],
   "source": [
    "# import shutil\n",
    "\n",
    "# folder_path = \"/home/glarus/glarus_project/collect_pipe_data/non_pipe/*\"\n",
    "# for i, img_path in enumerate(glob.glob(folder_path)):\n",
    "#     shutil.move(img_path, \"/home/glarus/glarus_project/collect_pipe_data/train_data_sep20/train/non_pipe/\")"
   ]
  },
  {
   "cell_type": "code",
   "execution_count": null,
   "id": "be5eca99",
   "metadata": {},
   "outputs": [],
   "source": []
  },
  {
   "cell_type": "code",
   "execution_count": null,
   "id": "cd3f4840",
   "metadata": {},
   "outputs": [],
   "source": []
  },
  {
   "cell_type": "code",
   "execution_count": null,
   "id": "b7ad7cf5",
   "metadata": {},
   "outputs": [],
   "source": []
  }
 ],
 "metadata": {
  "kernelspec": {
   "display_name": "Python 3 (ipykernel)",
   "language": "python",
   "name": "python3"
  },
  "language_info": {
   "codemirror_mode": {
    "name": "ipython",
    "version": 3
   },
   "file_extension": ".py",
   "mimetype": "text/x-python",
   "name": "python",
   "nbconvert_exporter": "python",
   "pygments_lexer": "ipython3",
   "version": "3.9.12"
  }
 },
 "nbformat": 4,
 "nbformat_minor": 5
}
